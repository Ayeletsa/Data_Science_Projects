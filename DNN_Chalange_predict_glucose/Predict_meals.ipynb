{
 "cells": [
  {
   "cell_type": "code",
   "execution_count": 1,
   "metadata": {},
   "outputs": [],
   "source": [
    "import pandas as pd\n",
    "import numpy as np\n",
    "import tensorflow as tf\n",
    "import matplotlib.pyplot as plt\n",
    "import os\n",
    "import sys\n",
    "import statsmodels.api as sm\n",
    "\n",
    "# The time series that you would get are such that the difference between two rows is 15 minutes.\n",
    "# This is a global number that we used to prepare the data, so you would need it for different purposes.\n",
    "DATA_RESOLUTION_MIN = 15\n",
    "\n",
    "\n",
    "class Predictor(object):\n",
    "    \"\"\"\n",
    "    This is where you should implement your predictor.\n",
    "    The testing script calls the 'predict' function with the glucose and meals test data which you will need in order to\n",
    "    build your features for prediction.\n",
    "    You should implement this function as you wish, just do not change the function's signature (name, parameters).\n",
    "    The other functions are here just as an example for you to have something to start with, you may implement whatever\n",
    "    you wish however you see fit.\n",
    "    \"\"\"\n",
    "\n",
    "    def __init__(self, path2data):\n",
    "        \"\"\"\n",
    "        This constructor only gets the path to a folder where the training data frames are.\n",
    "        :param path2data: a folder with your training data.\n",
    "        \"\"\"\n",
    "        self.path2data = path2data\n",
    "        self.train_glucose = None\n",
    "        self.train_meals = None\n",
    "        self.nn = None\n",
    "\n",
    "    def predict(self, X_glucose, X_meals):\n",
    "        \"\"\"\n",
    "        You must not change the signature of this function!!!\n",
    "        You are given two data frames: glucose values and meals.\n",
    "        For every timestamp (t) in X_glucose for which you have at least 12 hours (48 points) of past glucose and two\n",
    "        hours (8 points) of future glucose, predict the difference in glucose values for the next 8 time stamps\n",
    "        (t+15, t+30, ..., t+120).\n",
    "\n",
    "        :param X_glucose: A pandas data frame holding the glucose values in the format you trained on.\n",
    "        :param X_meals: A pandas data frame holding the meals data in the format you trained on.\n",
    "        :return: A numpy ndarray, sized (M x 8) holding your predictions for every valid row in X_glucose.\n",
    "                 M is the number of valid rows in X_glucose (number of time stamps for which you have at least 12 hours\n",
    "                 of past glucose values and 2 hours of future glucose values.\n",
    "                 Every row in your final ndarray should correspond to:\n",
    "                 (glucose[t+15min]-glucose[t], glucose[t+30min]-glucose[t], ..., glucose[t+120min]-glucose[t])\n",
    "        \"\"\"\n",
    "\n",
    "        # build features for set of (ID, timestamp)\n",
    "        X = self.build_features(X_glucose, X_meals)\n",
    "\n",
    "        # feed the network you trained (this for example would be a horrible prediction)\n",
    "        y = pd.concat([X.mean(1) for i in range(8)], axis=1)\n",
    "        return y\n",
    "\n",
    "    def define_nn(self):\n",
    "        \"\"\"\n",
    "        Define your neural network.\n",
    "        :return: None\n",
    "        \"\"\"\n",
    "        self.nn = None\n",
    "        return\n",
    "\n",
    "    def train_nn(self, X_train, y_train):\n",
    "        \"\"\"\n",
    "        Train your network using the training data.\n",
    "        :param X_train: A pandas data frame holding the features\n",
    "        :param y_train: A numpy ndarray, sized (M x 8) holding the values you need to predict.\n",
    "        :return:\n",
    "        \"\"\"\n",
    "        pass\n",
    "\n",
    "    def save_nn_model(self):\n",
    "        \"\"\"\n",
    "        Save your neural network after training.\n",
    "        :return:\n",
    "        \"\"\"\n",
    "        pass\n",
    "\n",
    "    def load_nn_model(self):\n",
    "        \"\"\"\n",
    "        Load your trained neural network.\n",
    "        :return:\n",
    "        \"\"\"\n",
    "        pass\n",
    "\n",
    "    @staticmethod\n",
    "    def load_data_frame(path):\n",
    "        \"\"\"\n",
    "        Load a pandas data frame in the relevant format.\n",
    "        :param path: path to csv.\n",
    "        :return: the loaded data frame.\n",
    "        \"\"\"\n",
    "        return pd.read_csv(path, index_col=[0, 1], parse_dates=['Date'])\n",
    "\n",
    "\n",
    "\n",
    "    def build_features(self, X_glucose, X_meals, build_y=False, n_previous_time_points=48):\n",
    "        \"\"\"\n",
    "        Given glucose and meals data, build the features needed for prediction.\n",
    "        :param X_glucose: A pandas data frame holding the glucose values.\n",
    "        :param X_meals: A pandas data frame holding the meals data.\n",
    "        :param build_y: Whether to also extract the values needed for prediction.\n",
    "        :param n_previous_time_points:\n",
    "        :return: The features needed for your prediction, and optionally also the relevant y arrays for training.\n",
    "        \"\"\"\n",
    "        # using X_glucose and X_meals to build the features\n",
    "        # for example just taking the last 2 hours of glucose values\n",
    "        X = X_glucose.groupby('id').apply(Predictor.create_shifts, n_previous_time_points=n_previous_time_points)\n",
    "\n",
    "        # this implementation of extracting y is a valid one.\n",
    "        if build_y:\n",
    "            y = X_glucose.groupby('id').apply(Predictor.extract_y, n_future_time_points=8)\n",
    "            X = X.loc[y.index].dropna(how='any', axis=0)\n",
    "            y = y.loc[X.index].dropna(how='any', axis=0)\n",
    "            return X, y\n",
    "        return X\n",
    "\n",
    "    @staticmethod\n",
    "    def create_shifts(df, n_previous_time_points=48):\n",
    "        \"\"\"\n",
    "        Creating a data frame with columns corresponding to previous time points\n",
    "        :param df: A pandas data frame\n",
    "        :param n_previous_time_points: number of previous time points to shift\n",
    "        :return:\n",
    "        \"\"\"\n",
    "        for g, i in zip(range(DATA_RESOLUTION_MIN, DATA_RESOLUTION_MIN*(n_previous_time_points+1), DATA_RESOLUTION_MIN),\n",
    "                        range(1, (n_previous_time_points+1), 1)):\n",
    "            df['GlucoseValue -%0.1dmin' % g] = df.GlucoseValue.shift(i)\n",
    "        return df.dropna(how='any', axis=0)\n",
    "\n",
    "    @staticmethod\n",
    "    def extract_y(df, n_future_time_points=8):\n",
    "        \"\"\"\n",
    "        Extracting the m next time points (difference from time zero)\n",
    "        :param n_future_time_points: number of future time points\n",
    "        :return:\n",
    "        \"\"\"\n",
    "        for g, i in zip(range(DATA_RESOLUTION_MIN, DATA_RESOLUTION_MIN*(n_future_time_points+1), DATA_RESOLUTION_MIN),\n",
    "                        range(1, (n_future_time_points+1), 1)):\n",
    "            df['Glucose difference +%0.1dmin' % g] = df.GlucoseValue.shift(-i) - df.GlucoseValue\n",
    "        return df.dropna(how='any', axis=0).drop('GlucoseValue', axis=1)\n",
    "\n",
    "    \n",
    "    def load_raw_data(self):\n",
    "        \"\"\"\n",
    "        Loads raw data frames from csv files, and do some basic cleaning\n",
    "        :return:\n",
    "        \"\"\"\n",
    "        self.train_glucose = Predictor.load_data_frame(os.path.join(self.path2data, 'GlucoseValues.csv'))\n",
    "        self.train_meals = Predictor.load_data_frame(os.path.join(self.path2data, 'Meals.csv'))\n",
    "\n",
    "                # suggested procedure\n",
    "        # 1. handle outliers: trimming, clipping..\n",
    "        # 2. feature normalizations\n",
    "        # 3. resample meals data to match glucose values intervals\n",
    "        \n",
    "        \n",
    "        outlier_std = 4\n",
    "\n",
    "        # remove glucose outlier_std std above the mean\n",
    "        # get standard score\n",
    "        self.train_glucose = normelize_df(predictor.train_glucose)\n",
    "        # remove outlier_std std above and below mean\n",
    "        self.train_glucose = predictor.train_glucose[predictor.train_glucose.abs()<outlier_std]\n",
    "        # renormelize after removing outliers\n",
    "        self.train_glucose = normelize_df(predictor.train_glucose)\n",
    "        self.train_meals\n",
    "        \n",
    "        # remove outliers from meals \n",
    "        no_zero_meals = self.train_meals.replace(0, np.NaN)\n",
    "        outlier_th = no_zero_meals.groupby('id').mean() + outlier_std * no_zero_meals.groupby('id').std() \n",
    "        self.train_meals[predictor.train_meals-outlier_th<0]\n",
    "        \n",
    "        # resample meals by glucose sample time\n",
    "        resample_time = str(DATA_RESOLUTION_MIN)+'T'\n",
    "        self.train_meals = self.train_meals.groupby(pd.Grouper(level=0)).resample(resample_time,level=-1).sum()\n",
    "\n",
    "        # remove meals outlier_std std above the mean\n",
    "        # get standard score\n",
    "        self.train_meals = self.train_meals/self.train_meals.groupby('id').max()\n",
    "\n",
    "        self.train_glucose = self.train_glucose.groupby(pd.Grouper(level=0)).resample(resample_time,level=-1).first()\n",
    "\n",
    "        # replace nan meal values for 0 and nan glucose data with qubic interpulation\n",
    "        self.train_meals = self.train_meals.fillna(0)\n",
    "        self.train_glucose = self.train_glucose.interpolate()\n",
    "        \n",
    "        # now merge the glucose and meas dataframes on the same time stamps\n",
    "        self.cgm_and_meals_id_time = self.train_glucose.merge(predictor.train_meals,how='left',left_index=True,right_index=True)\n",
    "        self.cgm_and_meals_id_time = self.cgm_and_meals_id_time.fillna(0)\n",
    "        #self.cgm_and_meals_id_time.isnull().sum()\n",
    "\n",
    "        return \n",
    "\n",
    "def normelize_df(df):\n",
    "    #predictor.train_meals.loc[3888]\n",
    "    # 1. find the mean and std per id\n",
    "    id_df_mean = df.groupby('id').mean()\n",
    "    id_df_std = df.groupby('id').std()\n",
    "\n",
    "    # remove 2 std above the mean\n",
    "    # get standard score\n",
    "    df = (df-id_df_mean)/id_df_std\n",
    "    \n",
    "    return df"
   ]
  },
  {
   "cell_type": "code",
   "execution_count": 2,
   "metadata": {},
   "outputs": [],
   "source": [
    "if __name__ == \"__main__\":\n",
    "    # example of predict() usage\n",
    "\n",
    "    # create Predictor instance\n",
    "    path2data = ''\n",
    "    predictor = Predictor(path2data)\n",
    "    \n",
    "    # load the raw data\n",
    "    predictor.load_raw_data()"
   ]
  },
  {
   "cell_type": "code",
   "execution_count": 3,
   "metadata": {},
   "outputs": [],
   "source": [
    "def univariate_data(dataset, start_index, end_index, history_size):\n",
    "  data = []\n",
    "  labels = []\n",
    "\n",
    "  start_index = start_index + history_size\n",
    "  if end_index is None:\n",
    "    end_index = len(dataset)\n",
    "\n",
    "  for i in range(start_index, end_index):\n",
    "    indices = range(i-history_size, i)\n",
    "    # Reshape data from (history_size,) to (history_size, 1)\n",
    "    data.append(dataset[indices])\n",
    "  return np.array(data)"
   ]
  },
  {
   "cell_type": "code",
   "execution_count": 43,
   "metadata": {},
   "outputs": [],
   "source": [
    "\n",
    "def pre_process_train_across(predictor, ids,k):\n",
    "\n",
    "    x_all = np.empty([1,k])\n",
    "    y_all = np.empty([1])\n",
    "\n",
    "    for id in ids:\n",
    "        data = predictor.cgm_and_meals_id_time.loc[id]\n",
    "        end_index = len(data)\n",
    "        x_single = univariate_data(data.GlucoseValue.values, 0,end_index,k)\n",
    "        if id==46:\n",
    "            print(x_single.shape)\n",
    "        x_all = np.append(x_all,x_single,axis=0)\n",
    "        \n",
    "        y_single = predictor.cgm_and_meals_id_time['food_id'].loc[id]>0\n",
    "        y_single = y_single.values[k:]\n",
    "        y_all = np.append(y_all,y_single,axis=0)\n",
    "    \n",
    "    return x_all, y_all\n"
   ]
  },
  {
   "cell_type": "code",
   "execution_count": 42,
   "metadata": {},
   "outputs": [
    {
     "name": "stdout",
     "output_type": "stream",
     "text": [
      "[[ 0.31410774  0.16347296 -0.13779658 ...  0.69069467 -0.28843135\n",
      "  -0.96628783]\n",
      " [ 0.16347296 -0.13779658 -0.21311397 ... -0.28843135 -0.96628783\n",
      "  -1.34287476]\n",
      " [-0.13779658 -0.21311397 -0.0624792  ... -0.96628783 -1.34287476\n",
      "  -0.96628783]\n",
      " ...\n",
      " [-0.96628783 -0.81565306 -0.51438351 ... -0.13779658  0.23879035\n",
      "   0.23879035]\n",
      " [-0.81565306 -0.51438351 -0.43906613 ...  0.23879035  0.23879035\n",
      "  -0.13779658]\n",
      " [-0.51438351 -0.43906613 -0.51438351 ...  0.23879035 -0.13779658\n",
      "  -0.51438351]]\n"
     ]
    }
   ],
   "source": [
    "k=20 # prediction history\n",
    "ids_all = predictor.cgm_and_meals_id_time.reset_index()['id'].unique()\n",
    "\n",
    "ids_train = ids_all[0:round(len(ids_all)*0.8)]\n",
    "ids_CV = ids_all[-round(len(ids_all)*0.2):]\n",
    "x_train_all, y_train_all = pre_process_train_across(predictor, ids_train,k)\n",
    "x_CV_all, y_CV_all = pre_process_train_across(predictor, ids_CV,k)\n",
    "\n",
    "\n",
    "# check backward prediction\n",
    "x_train_all = x_train_all[]"
   ]
  },
  {
   "cell_type": "code",
   "execution_count": 76,
   "metadata": {},
   "outputs": [
    {
     "data": {
      "text/plain": [
       "(682421, 20)"
      ]
     },
     "execution_count": 76,
     "metadata": {},
     "output_type": "execute_result"
    }
   ],
   "source": [
    "x_train_all.shape"
   ]
  },
  {
   "cell_type": "code",
   "execution_count": null,
   "metadata": {},
   "outputs": [],
   "source": []
  },
  {
   "cell_type": "code",
   "execution_count": 18,
   "metadata": {},
   "outputs": [],
   "source": [
    "x_train_model = sm.add_constant(x_train_all)\n",
    "binomial_model = sm.GLM(y_train_all, x_train_model, family=sm.families.Binomial())\n",
    "binomial_results = binomial_model.fit()\n",
    "\n"
   ]
  },
  {
   "cell_type": "code",
   "execution_count": 19,
   "metadata": {},
   "outputs": [
    {
     "name": "stdout",
     "output_type": "stream",
     "text": [
      "                 Generalized Linear Model Regression Results                  \n",
      "==============================================================================\n",
      "Dep. Variable:                      y   No. Observations:               682421\n",
      "Model:                            GLM   Df Residuals:                   682400\n",
      "Model Family:                Binomial   Df Model:                           20\n",
      "Link Function:                  logit   Scale:                          1.0000\n",
      "Method:                          IRLS   Log-Likelihood:            -1.6267e+05\n",
      "Date:                Mon, 24 Feb 2020   Deviance:                   3.2535e+05\n",
      "Time:                        10:26:08   Pearson chi2:                 6.82e+05\n",
      "No. Iterations:                     6                                         \n",
      "Covariance Type:            nonrobust                                         \n",
      "==============================================================================\n",
      "                 coef    std err          z      P>|z|      [0.025      0.975]\n",
      "------------------------------------------------------------------------------\n",
      "const         -2.6845      0.005   -539.709      0.000      -2.694      -2.675\n",
      "x1            -0.1241      0.014     -9.007      0.000      -0.151      -0.097\n",
      "x2             0.1068      0.027      4.021      0.000       0.055       0.159\n",
      "x3            -0.1063      0.033     -3.227      0.001      -0.171      -0.042\n",
      "x4             0.0486      0.035      1.370      0.171      -0.021       0.118\n",
      "x5            -0.0404      0.036     -1.123      0.261      -0.111       0.030\n",
      "x6             0.0204      0.036      0.567      0.571      -0.050       0.091\n",
      "x7            -0.0140      0.036     -0.390      0.696      -0.084       0.056\n",
      "x8             0.0239      0.036      0.665      0.506      -0.046       0.094\n",
      "x9            -0.0508      0.036     -1.418      0.156      -0.121       0.019\n",
      "x10            0.0525      0.036      1.470      0.142      -0.018       0.122\n",
      "x11           -0.0166      0.036     -0.466      0.641      -0.087       0.053\n",
      "x12            0.0478      0.036      1.338      0.181      -0.022       0.118\n",
      "x13           -0.0455      0.036     -1.273      0.203      -0.116       0.025\n",
      "x14            0.0665      0.036      1.860      0.063      -0.004       0.137\n",
      "x15           -0.0634      0.036     -1.771      0.077      -0.134       0.007\n",
      "x16            0.1396      0.036      3.906      0.000       0.070       0.210\n",
      "x17           -0.2691      0.035     -7.668      0.000      -0.338      -0.200\n",
      "x18            0.3772      0.032     11.681      0.000       0.314       0.441\n",
      "x19           -0.4860      0.026    -18.767      0.000      -0.537      -0.435\n",
      "x20            0.3379      0.013     25.928      0.000       0.312       0.363\n",
      "==============================================================================\n"
     ]
    }
   ],
   "source": [
    "print(binomial_results.summary())"
   ]
  },
  {
   "cell_type": "code",
   "execution_count": 20,
   "metadata": {},
   "outputs": [],
   "source": [
    "x_CV_model = sm.add_constant(x_CV_all)\n",
    "predicted_train_values = binomial_results.predict(x_train_model)\n",
    "predicted_values = binomial_results.predict(x_CV_model)"
   ]
  },
  {
   "cell_type": "code",
   "execution_count": 22,
   "metadata": {},
   "outputs": [
    {
     "data": {
      "text/plain": [
       "[<matplotlib.lines.Line2D at 0x115cfaf10>]"
      ]
     },
     "execution_count": 22,
     "metadata": {},
     "output_type": "execute_result"
    },
    {
     "data": {
      "image/png": "[encoded data removed]",
      "text/plain": [
       "<Figure size 432x288 with 1 Axes>"
      ]
     },
     "metadata": {
      "needs_background": "light"
     },
     "output_type": "display_data"
    }
   ],
   "source": [
    "plt.plot(predicted_values)"
   ]
  },
  {
   "cell_type": "code",
   "execution_count": 23,
   "metadata": {},
   "outputs": [
    {
     "data": {
      "text/plain": [
       "array([[1.        , 0.02867173],\n",
       "       [0.02867173, 1.        ]])"
      ]
     },
     "execution_count": 23,
     "metadata": {},
     "output_type": "execute_result"
    }
   ],
   "source": [
    "np.corrcoef(predicted_values,y_CV_all)\n"
   ]
  },
  {
   "cell_type": "code",
   "execution_count": 24,
   "metadata": {},
   "outputs": [
    {
     "data": {
      "text/plain": [
       "array([[1.        , 0.03938399],\n",
       "       [0.03938399, 1.        ]])"
      ]
     },
     "execution_count": 24,
     "metadata": {},
     "output_type": "execute_result"
    }
   ],
   "source": [
    "np.corrcoef(predicted_train_values,y_train_all)"
   ]
  },
  {
   "cell_type": "code",
   "execution_count": 70,
   "metadata": {},
   "outputs": [],
   "source": [
    "predicted_meal = predicted_values>0.08"
   ]
  },
  {
   "cell_type": "code",
   "execution_count": 80,
   "metadata": {},
   "outputs": [
    {
     "data": {
      "text/plain": [
       "(682421, 20)"
      ]
     },
     "execution_count": 80,
     "metadata": {},
     "output_type": "execute_result"
    }
   ],
   "source": [
    "x_train_all.shape"
   ]
  },
  {
   "cell_type": "code",
   "execution_count": 88,
   "metadata": {},
   "outputs": [],
   "source": [
    "meal_glu_val = x_train_all[y_train_all>0,:]\n",
    "no_meal_glu_val = x_train_all[y_train_all<1,:]\n"
   ]
  },
  {
   "cell_type": "code",
   "execution_count": 92,
   "metadata": {},
   "outputs": [
    {
     "data": {
      "text/plain": [
       "(array([5.62806184e-05, 0.00000000e+00, 5.62806184e-05, 5.62806184e-05,\n",
       "        1.12561237e-04, 1.68841855e-04, 1.68841855e-04, 5.62806184e-05,\n",
       "        5.62806184e-05, 1.68841855e-04, 5.62806184e-05, 2.81403092e-04,\n",
       "        3.93964329e-04, 5.62806184e-05, 1.68841855e-04, 1.68841855e-04,\n",
       "        3.93964329e-04, 3.37683711e-04, 6.75367421e-04, 5.06525566e-04,\n",
       "        3.93964329e-04, 5.06525566e-04, 4.50244947e-04, 5.62806184e-04,\n",
       "        7.31648039e-04, 2.30750536e-03, 3.93964329e-04, 1.01305113e-03,\n",
       "        5.62806184e-04, 1.40701546e-03, 1.23817361e-03, 9.56770513e-04,\n",
       "        1.40701546e-03, 1.12561237e-03, 2.36378597e-03, 3.48939834e-03,\n",
       "        1.91354103e-03, 1.85726041e-03, 4.33360762e-03, 7.03507730e-03,\n",
       "        6.69739359e-03, 5.74062308e-03, 4.55873009e-03, 4.05220453e-03,\n",
       "        3.82708205e-03, 4.27732700e-03, 2.81403092e-03, 4.33360762e-03,\n",
       "        4.55873009e-03, 3.77080143e-03, 4.55873009e-03, 3.88336267e-03,\n",
       "        4.38988824e-03, 3.88336267e-03, 7.48532225e-03, 5.74062308e-03,\n",
       "        8.55465400e-03, 5.68434246e-03, 6.52855174e-03, 9.62398575e-03,\n",
       "        8.38581214e-03, 1.06370369e-02, 1.14249655e-02, 1.30008229e-02,\n",
       "        1.03556338e-02, 9.11746018e-03, 1.21003330e-02, 1.18752105e-02,\n",
       "        1.09184400e-02, 1.33947872e-02, 1.66590631e-02, 1.94730940e-02,\n",
       "        1.46892414e-02, 1.33385066e-02, 1.90791296e-02, 1.98107777e-02,\n",
       "        1.82912010e-02, 2.55514008e-02, 1.71655886e-02, 2.42569465e-02,\n",
       "        2.78589061e-02, 3.08980595e-02, 3.06729370e-02, 2.79151867e-02,\n",
       "        3.37683711e-02, 3.39372129e-02, 3.75391725e-02, 4.09722902e-02,\n",
       "        4.95832248e-02, 5.24535364e-02, 4.71068776e-02, 6.37096601e-02,\n",
       "        6.03891036e-02, 7.49095031e-02, 8.18882998e-02, 8.56591012e-02,\n",
       "        8.18882998e-02, 1.08846716e-01, 1.24380167e-01, 1.16500880e-01,\n",
       "        1.41151791e-01, 1.43177893e-01, 1.53364685e-01, 1.48862236e-01,\n",
       "        1.67885085e-01, 2.26360647e-01, 1.78353280e-01, 2.16230136e-01,\n",
       "        2.24615948e-01, 2.48760333e-01, 2.94854160e-01, 2.55232605e-01,\n",
       "        2.87706521e-01, 3.69538541e-01, 3.42298721e-01, 3.57156804e-01,\n",
       "        3.46182084e-01, 4.01280809e-01, 4.12762055e-01, 3.95765309e-01,\n",
       "        4.29983925e-01, 4.13887668e-01, 4.30377889e-01, 4.90879554e-01,\n",
       "        4.42478222e-01, 5.16430955e-01, 4.80073675e-01, 5.03992938e-01,\n",
       "        4.74107930e-01, 5.17444006e-01, 5.63200149e-01, 5.44008458e-01,\n",
       "        4.92961937e-01, 5.51268657e-01, 4.48837932e-01, 5.64269480e-01,\n",
       "        5.42320039e-01, 4.71687863e-01, 5.04105499e-01, 4.65947240e-01,\n",
       "        5.44289861e-01, 4.67691939e-01, 4.58968443e-01, 4.08822412e-01,\n",
       "        4.82775145e-01, 4.52158488e-01, 4.76753119e-01, 3.56031192e-01,\n",
       "        3.89574441e-01, 4.30040205e-01, 4.39551630e-01, 3.27102954e-01,\n",
       "        3.68244086e-01, 4.08597290e-01, 3.75448005e-01, 3.39934935e-01,\n",
       "        2.74649418e-01, 3.33744067e-01, 3.49558921e-01, 3.15509147e-01,\n",
       "        3.07573580e-01, 2.64518907e-01, 3.05603758e-01, 2.90126588e-01,\n",
       "        2.55288885e-01, 2.74311734e-01, 2.49885946e-01, 2.74142892e-01,\n",
       "        2.37616771e-01, 2.42006659e-01, 2.44708129e-01, 2.30300291e-01,\n",
       "        2.11333722e-01, 2.17693432e-01, 2.28274188e-01, 2.16567820e-01,\n",
       "        2.01934859e-01, 2.08519691e-01, 1.82461765e-01, 1.91297822e-01,\n",
       "        1.95462588e-01, 1.59780676e-01, 1.75426688e-01, 1.70136309e-01,\n",
       "        1.74695040e-01, 1.46836133e-01, 1.70080029e-01, 1.48749674e-01,\n",
       "        1.28150968e-01, 1.53533527e-01, 1.34004152e-01, 1.45654240e-01,\n",
       "        1.17907896e-01, 1.30627315e-01, 1.22354064e-01, 1.40757827e-01,\n",
       "        1.21791258e-01, 1.13968252e-01, 9.79845567e-02, 1.12223553e-01,\n",
       "        1.06764333e-01, 1.01586516e-01, 1.23648519e-01, 8.96550251e-02,\n",
       "        1.09353242e-01, 8.83042903e-02, 8.84731322e-02, 8.35767184e-02,\n",
       "        9.50016839e-02, 7.89617076e-02, 7.63165186e-02, 8.24511060e-02,\n",
       "        7.70481666e-02, 6.63548491e-02, 7.05196149e-02, 7.36713295e-02,\n",
       "        7.40090132e-02, 6.22463640e-02, 6.32031345e-02, 6.73679002e-02,\n",
       "        6.36533794e-02, 4.63752296e-02, 5.72936696e-02, 5.28475007e-02,\n",
       "        5.76313533e-02, 4.55873009e-02, 4.55310203e-02, 5.26786588e-02,\n",
       "        5.41982355e-02, 3.81582593e-02, 3.81582593e-02, 4.45179692e-02,\n",
       "        4.62626683e-02, 3.61321570e-02, 3.48377028e-02, 3.77642950e-02,\n",
       "        3.65261214e-02, 3.54567896e-02, 3.28678812e-02, 3.24739168e-02,\n",
       "        3.19111106e-02, 3.33744067e-02, 2.40318241e-02, 2.47634721e-02,\n",
       "        2.83091511e-02, 3.22487944e-02, 2.36378597e-02, 2.21745637e-02,\n",
       "        2.40318241e-02, 2.69021356e-02, 2.50448752e-02, 1.92479715e-02,\n",
       "        1.96419358e-02, 1.86288847e-02, 2.27936505e-02, 2.17243187e-02,\n",
       "        1.68841855e-02, 1.90791296e-02, 1.50832057e-02, 1.90228490e-02,\n",
       "        1.58148538e-02, 1.80097979e-02, 1.57585732e-02, 1.67153437e-02,\n",
       "        1.42952771e-02, 1.42952771e-02, 1.36199097e-02, 1.21003330e-02,\n",
       "        1.35073484e-02, 1.60399762e-02, 1.19877717e-02, 1.10310012e-02,\n",
       "        1.11998431e-02, 1.19314911e-02, 1.34510678e-02, 9.00489895e-03,\n",
       "        8.55465400e-03, 9.34258266e-03, 1.00179501e-02, 9.51142451e-03,\n",
       "        8.38581214e-03, 9.73654699e-03, 8.04812843e-03, 9.00489895e-03,\n",
       "        8.49837338e-03, 9.56770513e-03, 5.96574555e-03, 8.38581214e-03,\n",
       "        5.12153628e-03, 7.48532225e-03, 6.75367421e-03, 4.95269442e-03,\n",
       "        6.86623545e-03, 5.51550061e-03, 4.72757195e-03, 4.10848514e-03,\n",
       "        3.43311772e-03, 2.30750536e-03, 2.92659216e-03, 1.29445422e-03,\n",
       "        1.57585732e-03, 1.12561237e-03, 7.31648039e-04, 8.44209276e-04,\n",
       "        1.12561237e-03, 3.37683711e-04, 1.68841855e-04, 3.93964329e-04,\n",
       "        2.25122474e-04, 3.37683711e-04, 3.37683711e-04, 5.62806184e-05,\n",
       "        5.62806184e-05, 0.00000000e+00, 1.12561237e-04, 5.62806184e-05,\n",
       "        0.00000000e+00, 0.00000000e+00, 0.00000000e+00, 3.37683711e-04]),\n",
       " array([-4.15163104e+00, -4.12379914e+00, -4.09596725e+00, -4.06813535e+00,\n",
       "        -4.04030345e+00, -4.01247155e+00, -3.98463966e+00, -3.95680776e+00,\n",
       "        -3.92897586e+00, -3.90114396e+00, -3.87331207e+00, -3.84548017e+00,\n",
       "        -3.81764827e+00, -3.78981637e+00, -3.76198448e+00, -3.73415258e+00,\n",
       "        -3.70632068e+00, -3.67848878e+00, -3.65065688e+00, -3.62282499e+00,\n",
       "        -3.59499309e+00, -3.56716119e+00, -3.53932929e+00, -3.51149740e+00,\n",
       "        -3.48366550e+00, -3.45583360e+00, -3.42800170e+00, -3.40016981e+00,\n",
       "        -3.37233791e+00, -3.34450601e+00, -3.31667411e+00, -3.28884222e+00,\n",
       "        -3.26101032e+00, -3.23317842e+00, -3.20534652e+00, -3.17751462e+00,\n",
       "        -3.14968273e+00, -3.12185083e+00, -3.09401893e+00, -3.06618703e+00,\n",
       "        -3.03835514e+00, -3.01052324e+00, -2.98269134e+00, -2.95485944e+00,\n",
       "        -2.92702755e+00, -2.89919565e+00, -2.87136375e+00, -2.84353185e+00,\n",
       "        -2.81569996e+00, -2.78786806e+00, -2.76003616e+00, -2.73220426e+00,\n",
       "        -2.70437236e+00, -2.67654047e+00, -2.64870857e+00, -2.62087667e+00,\n",
       "        -2.59304477e+00, -2.56521288e+00, -2.53738098e+00, -2.50954908e+00,\n",
       "        -2.48171718e+00, -2.45388529e+00, -2.42605339e+00, -2.39822149e+00,\n",
       "        -2.37038959e+00, -2.34255770e+00, -2.31472580e+00, -2.28689390e+00,\n",
       "        -2.25906200e+00, -2.23123010e+00, -2.20339821e+00, -2.17556631e+00,\n",
       "        -2.14773441e+00, -2.11990251e+00, -2.09207062e+00, -2.06423872e+00,\n",
       "        -2.03640682e+00, -2.00857492e+00, -1.98074303e+00, -1.95291113e+00,\n",
       "        -1.92507923e+00, -1.89724733e+00, -1.86941544e+00, -1.84158354e+00,\n",
       "        -1.81375164e+00, -1.78591974e+00, -1.75808784e+00, -1.73025595e+00,\n",
       "        -1.70242405e+00, -1.67459215e+00, -1.64676025e+00, -1.61892836e+00,\n",
       "        -1.59109646e+00, -1.56326456e+00, -1.53543266e+00, -1.50760077e+00,\n",
       "        -1.47976887e+00, -1.45193697e+00, -1.42410507e+00, -1.39627318e+00,\n",
       "        -1.36844128e+00, -1.34060938e+00, -1.31277748e+00, -1.28494558e+00,\n",
       "        -1.25711369e+00, -1.22928179e+00, -1.20144989e+00, -1.17361799e+00,\n",
       "        -1.14578610e+00, -1.11795420e+00, -1.09012230e+00, -1.06229040e+00,\n",
       "        -1.03445851e+00, -1.00662661e+00, -9.78794711e-01, -9.50962813e-01,\n",
       "        -9.23130916e-01, -8.95299018e-01, -8.67467120e-01, -8.39635223e-01,\n",
       "        -8.11803325e-01, -7.83971427e-01, -7.56139530e-01, -7.28307632e-01,\n",
       "        -7.00475734e-01, -6.72643837e-01, -6.44811939e-01, -6.16980042e-01,\n",
       "        -5.89148144e-01, -5.61316246e-01, -5.33484349e-01, -5.05652451e-01,\n",
       "        -4.77820553e-01, -4.49988656e-01, -4.22156758e-01, -3.94324860e-01,\n",
       "        -3.66492963e-01, -3.38661065e-01, -3.10829167e-01, -2.82997270e-01,\n",
       "        -2.55165372e-01, -2.27333475e-01, -1.99501577e-01, -1.71669679e-01,\n",
       "        -1.43837782e-01, -1.16005884e-01, -8.81739863e-02, -6.03420887e-02,\n",
       "        -3.25101910e-02, -4.67829340e-03,  2.31536042e-02,  5.09855019e-02,\n",
       "         7.88173995e-02,  1.06649297e-01,  1.34481195e-01,  1.62313092e-01,\n",
       "         1.90144990e-01,  2.17976888e-01,  2.45808785e-01,  2.73640683e-01,\n",
       "         3.01472581e-01,  3.29304478e-01,  3.57136376e-01,  3.84968274e-01,\n",
       "         4.12800171e-01,  4.40632069e-01,  4.68463967e-01,  4.96295864e-01,\n",
       "         5.24127762e-01,  5.51959659e-01,  5.79791557e-01,  6.07623455e-01,\n",
       "         6.35455352e-01,  6.63287250e-01,  6.91119148e-01,  7.18951045e-01,\n",
       "         7.46782943e-01,  7.74614841e-01,  8.02446738e-01,  8.30278636e-01,\n",
       "         8.58110534e-01,  8.85942431e-01,  9.13774329e-01,  9.41606226e-01,\n",
       "         9.69438124e-01,  9.97270022e-01,  1.02510192e+00,  1.05293382e+00,\n",
       "         1.08076571e+00,  1.10859761e+00,  1.13642951e+00,  1.16426141e+00,\n",
       "         1.19209331e+00,  1.21992520e+00,  1.24775710e+00,  1.27558900e+00,\n",
       "         1.30342090e+00,  1.33125279e+00,  1.35908469e+00,  1.38691659e+00,\n",
       "         1.41474849e+00,  1.44258038e+00,  1.47041228e+00,  1.49824418e+00,\n",
       "         1.52607608e+00,  1.55390797e+00,  1.58173987e+00,  1.60957177e+00,\n",
       "         1.63740367e+00,  1.66523557e+00,  1.69306746e+00,  1.72089936e+00,\n",
       "         1.74873126e+00,  1.77656316e+00,  1.80439505e+00,  1.83222695e+00,\n",
       "         1.86005885e+00,  1.88789075e+00,  1.91572264e+00,  1.94355454e+00,\n",
       "         1.97138644e+00,  1.99921834e+00,  2.02705023e+00,  2.05488213e+00,\n",
       "         2.08271403e+00,  2.11054593e+00,  2.13837783e+00,  2.16620972e+00,\n",
       "         2.19404162e+00,  2.22187352e+00,  2.24970542e+00,  2.27753731e+00,\n",
       "         2.30536921e+00,  2.33320111e+00,  2.36103301e+00,  2.38886490e+00,\n",
       "         2.41669680e+00,  2.44452870e+00,  2.47236060e+00,  2.50019249e+00,\n",
       "         2.52802439e+00,  2.55585629e+00,  2.58368819e+00,  2.61152008e+00,\n",
       "         2.63935198e+00,  2.66718388e+00,  2.69501578e+00,  2.72284768e+00,\n",
       "         2.75067957e+00,  2.77851147e+00,  2.80634337e+00,  2.83417527e+00,\n",
       "         2.86200716e+00,  2.88983906e+00,  2.91767096e+00,  2.94550286e+00,\n",
       "         2.97333475e+00,  3.00116665e+00,  3.02899855e+00,  3.05683045e+00,\n",
       "         3.08466234e+00,  3.11249424e+00,  3.14032614e+00,  3.16815804e+00,\n",
       "         3.19598994e+00,  3.22382183e+00,  3.25165373e+00,  3.27948563e+00,\n",
       "         3.30731753e+00,  3.33514942e+00,  3.36298132e+00,  3.39081322e+00,\n",
       "         3.41864512e+00,  3.44647701e+00,  3.47430891e+00,  3.50214081e+00,\n",
       "         3.52997271e+00,  3.55780460e+00,  3.58563650e+00,  3.61346840e+00,\n",
       "         3.64130030e+00,  3.66913220e+00,  3.69696409e+00,  3.72479599e+00,\n",
       "         3.75262789e+00,  3.78045979e+00,  3.80829168e+00,  3.83612358e+00,\n",
       "         3.86395548e+00,  3.89178738e+00,  3.91961927e+00,  3.94745117e+00,\n",
       "         3.97528307e+00,  4.00311497e+00,  4.03094686e+00,  4.05877876e+00,\n",
       "         4.08661066e+00,  4.11444256e+00,  4.14227446e+00,  4.17010635e+00,\n",
       "         4.19793825e+00,  4.22577015e+00,  4.25360205e+00,  4.28143394e+00,\n",
       "         4.30926584e+00,  4.33709774e+00,  4.36492964e+00,  4.39276153e+00,\n",
       "         4.42059343e+00,  4.44842533e+00,  4.47625723e+00,  4.50408912e+00,\n",
       "         4.53192102e+00,  4.55975292e+00,  4.58758482e+00,  4.61541672e+00,\n",
       "         4.64324861e+00,  4.67108051e+00,  4.69891241e+00,  4.72674431e+00,\n",
       "         4.75457620e+00]),\n",
       " <a list of 320 Patch objects>)"
      ]
     },
     "execution_count": 92,
     "metadata": {},
     "output_type": "execute_result"
    },
    {
     "data": {
      "image/png": "[encoded data removed]",
      "text/plain": [
       "<Figure size 432x288 with 1 Axes>"
      ]
     },
     "metadata": {
      "needs_background": "light"
     },
     "output_type": "display_data"
    }
   ],
   "source": [
    "np.histogram(meal_glu_val[:,19])\n",
    "plt.hist(meal_glu_val[:,19], bins='auto',density=True)\n",
    "plt.hist(no_meal_glu_val[:,19], bins='auto',density=True)\n"
   ]
  },
  {
   "cell_type": "code",
   "execution_count": 96,
   "metadata": {},
   "outputs": [
    {
     "data": {
      "text/plain": [
       "(array([5.62806184e-05, 0.00000000e+00, 5.62806184e-05, 5.62806184e-05,\n",
       "        1.12561237e-04, 1.12561237e-04, 1.68841855e-04, 5.62806184e-05,\n",
       "        5.62806184e-05, 1.68841855e-04, 5.62806184e-05, 2.81403092e-04,\n",
       "        3.93964329e-04, 5.62806184e-05, 1.68841855e-04, 1.68841855e-04,\n",
       "        3.93964329e-04, 3.37683711e-04, 6.75367421e-04, 5.06525566e-04,\n",
       "        3.37683711e-04, 5.06525566e-04, 4.50244947e-04, 5.62806184e-04,\n",
       "        7.87928658e-04, 2.36378597e-03, 3.37683711e-04, 9.56770513e-04,\n",
       "        5.62806184e-04, 1.40701546e-03, 1.23817361e-03, 1.06933175e-03,\n",
       "        1.46329608e-03, 1.12561237e-03, 2.30750536e-03, 3.48939834e-03,\n",
       "        1.91354103e-03, 1.85726041e-03, 4.38988824e-03, 7.03507730e-03,\n",
       "        6.75367421e-03, 5.68434246e-03, 4.67129133e-03, 3.93964329e-03,\n",
       "        3.88336267e-03, 4.16476576e-03, 2.92659216e-03, 4.33360762e-03,\n",
       "        4.61501071e-03, 3.71452082e-03, 4.38988824e-03, 3.48939834e-03,\n",
       "        4.50244947e-03, 3.82708205e-03, 7.54160287e-03, 5.74062308e-03,\n",
       "        8.38581214e-03, 5.90946493e-03, 6.30342926e-03, 9.34258266e-03,\n",
       "        8.32953153e-03, 1.09184400e-02, 1.14249655e-02, 1.28319810e-02,\n",
       "        1.05807563e-02, 8.83605709e-03, 1.17626492e-02, 1.16500880e-02,\n",
       "        1.09747206e-02, 1.31133841e-02, 1.67716243e-02, 1.94168134e-02,\n",
       "        1.46329608e-02, 1.31696647e-02, 1.87414459e-02, 1.98670583e-02,\n",
       "        1.82349204e-02, 2.53262783e-02, 1.68279049e-02, 2.45946302e-02,\n",
       "        2.74649418e-02, 3.06166564e-02, 3.03352533e-02, 2.72960999e-02,\n",
       "        3.38809323e-02, 3.37120904e-02, 3.66949632e-02, 4.15913770e-02,\n",
       "        4.93581024e-02, 5.21158527e-02, 4.63752296e-02, 6.37096601e-02,\n",
       "        6.02202617e-02, 7.37838907e-02, 8.09315293e-02, 8.53214175e-02,\n",
       "        8.21134223e-02, 1.08902997e-01, 1.25449498e-01, 1.16106916e-01,\n",
       "        1.40138740e-01, 1.41489475e-01, 1.51901389e-01, 1.49650164e-01,\n",
       "        1.67040875e-01, 2.24897351e-01, 1.78634683e-01, 2.14766840e-01,\n",
       "        2.22421004e-01, 2.46903073e-01, 2.93559706e-01, 2.52137171e-01,\n",
       "        2.85792980e-01, 3.69876224e-01, 3.40779145e-01, 3.53048319e-01,\n",
       "        3.42355002e-01, 4.01731054e-01, 4.08822412e-01, 3.94864819e-01,\n",
       "        4.25762878e-01, 4.07021432e-01, 4.25762878e-01, 4.86996191e-01,\n",
       "        4.43547554e-01, 5.16262113e-01, 4.79679711e-01, 5.01966836e-01,\n",
       "        4.72869756e-01, 5.13448082e-01, 5.60273556e-01, 5.41363269e-01,\n",
       "        4.92286569e-01, 5.49917923e-01, 4.46305304e-01, 5.63650393e-01,\n",
       "        5.37592467e-01, 4.73038598e-01, 5.03036167e-01, 4.63470893e-01,\n",
       "        5.42995407e-01, 4.66678888e-01, 4.60713142e-01, 4.11805285e-01,\n",
       "        4.85814298e-01, 4.55929290e-01, 4.79060624e-01, 3.58282417e-01,\n",
       "        3.88448828e-01, 4.29252277e-01, 4.40846084e-01, 3.26258745e-01,\n",
       "        3.69032015e-01, 4.07077713e-01, 3.77474108e-01, 3.43762017e-01,\n",
       "        2.75043382e-01, 3.34982241e-01, 3.51359901e-01, 3.19279948e-01,\n",
       "        3.10612733e-01, 2.65306835e-01, 3.07629860e-01, 2.90126588e-01,\n",
       "        2.57877794e-01, 2.76337836e-01, 2.48366369e-01, 2.76394117e-01,\n",
       "        2.40318241e-01, 2.43188552e-01, 2.44933251e-01, 2.30131449e-01,\n",
       "        2.12009090e-01, 2.19269289e-01, 2.32044990e-01, 2.18650203e-01,\n",
       "        2.02497665e-01, 2.11671406e-01, 1.81730117e-01, 1.93549047e-01,\n",
       "        1.95462588e-01, 1.61525375e-01, 1.77002545e-01, 1.70248871e-01,\n",
       "        1.75426688e-01, 1.48580833e-01, 1.70248871e-01, 1.48749674e-01,\n",
       "        1.29051458e-01, 1.54265175e-01, 1.35017204e-01, 1.45035154e-01,\n",
       "        1.18414421e-01, 1.31696647e-01, 1.22916871e-01, 1.39857337e-01,\n",
       "        1.22241503e-01, 1.13630569e-01, 9.86599241e-02, 1.13180324e-01,\n",
       "        1.07946226e-01, 1.01811639e-01, 1.23592238e-01, 9.19625305e-02,\n",
       "        1.10253731e-01, 8.83605709e-02, 8.92610608e-02, 8.41958052e-02,\n",
       "        9.61272963e-02, 7.98621975e-02, 7.83989015e-02, 8.24511060e-02,\n",
       "        7.76672534e-02, 6.66925328e-02, 6.95065637e-02, 7.34462070e-02,\n",
       "        7.44592582e-02, 6.23026446e-02, 6.27528895e-02, 6.73116196e-02,\n",
       "        6.43287469e-02, 4.72757195e-02, 5.81378788e-02, 5.21721333e-02,\n",
       "        5.81378788e-02, 4.56435815e-02, 4.58687040e-02, 5.29600619e-02,\n",
       "        5.43107968e-02, 3.84959430e-02, 3.79894174e-02, 4.44054079e-02,\n",
       "        4.55873009e-02, 3.60758764e-02, 3.45000191e-02, 3.85522236e-02,\n",
       "        3.66386826e-02, 3.56256315e-02, 3.26427587e-02, 3.12357432e-02,\n",
       "        3.21362331e-02, 3.32055649e-02, 2.42006659e-02, 2.57202426e-02,\n",
       "        2.74649418e-02, 3.23613556e-02, 2.35252985e-02, 2.22308443e-02,\n",
       "        2.44820690e-02, 2.70146968e-02, 2.51574364e-02, 1.97544971e-02,\n",
       "        2.03735839e-02, 1.88540072e-02, 2.29062117e-02, 2.11615125e-02,\n",
       "        1.75032723e-02, 2.00921808e-02, 1.53646088e-02, 1.86851653e-02,\n",
       "        1.63213793e-02, 1.79535173e-02, 1.57022925e-02, 1.63213793e-02,\n",
       "        1.46329608e-02, 1.40138740e-02, 1.41264352e-02, 1.25505779e-02,\n",
       "        1.31133841e-02, 1.62088181e-02, 1.19877717e-02, 1.11435624e-02,\n",
       "        1.15375268e-02, 1.22691748e-02, 1.31133841e-02, 9.39886328e-03,\n",
       "        8.38581214e-03, 9.51142451e-03, 9.96166946e-03, 9.68026637e-03,\n",
       "        8.44209276e-03, 9.51142451e-03, 7.87928658e-03, 9.23002142e-03,\n",
       "        8.66721524e-03, 9.39886328e-03, 5.96574555e-03, 8.61093462e-03,\n",
       "        4.61501071e-03, 7.87928658e-03, 6.80995483e-03, 5.12153628e-03,\n",
       "        6.64111297e-03, 5.57178122e-03, 5.00897504e-03, 4.16476576e-03,\n",
       "        3.48939834e-03, 2.19494412e-03, 3.03915339e-03, 1.35073484e-03,\n",
       "        1.80097979e-03, 1.01305113e-03, 7.31648039e-04, 9.56770513e-04,\n",
       "        1.18189299e-03, 3.37683711e-04, 1.68841855e-04, 3.93964329e-04,\n",
       "        2.25122474e-04, 3.37683711e-04, 3.93964329e-04, 5.62806184e-05,\n",
       "        5.62806184e-05, 0.00000000e+00, 1.12561237e-04, 5.62806184e-05,\n",
       "        0.00000000e+00, 0.00000000e+00, 0.00000000e+00, 3.37683711e-04]),\n",
       " array([-4.15163104e+00, -4.12379914e+00, -4.09596725e+00, -4.06813535e+00,\n",
       "        -4.04030345e+00, -4.01247155e+00, -3.98463966e+00, -3.95680776e+00,\n",
       "        -3.92897586e+00, -3.90114396e+00, -3.87331207e+00, -3.84548017e+00,\n",
       "        -3.81764827e+00, -3.78981637e+00, -3.76198448e+00, -3.73415258e+00,\n",
       "        -3.70632068e+00, -3.67848878e+00, -3.65065688e+00, -3.62282499e+00,\n",
       "        -3.59499309e+00, -3.56716119e+00, -3.53932929e+00, -3.51149740e+00,\n",
       "        -3.48366550e+00, -3.45583360e+00, -3.42800170e+00, -3.40016981e+00,\n",
       "        -3.37233791e+00, -3.34450601e+00, -3.31667411e+00, -3.28884222e+00,\n",
       "        -3.26101032e+00, -3.23317842e+00, -3.20534652e+00, -3.17751462e+00,\n",
       "        -3.14968273e+00, -3.12185083e+00, -3.09401893e+00, -3.06618703e+00,\n",
       "        -3.03835514e+00, -3.01052324e+00, -2.98269134e+00, -2.95485944e+00,\n",
       "        -2.92702755e+00, -2.89919565e+00, -2.87136375e+00, -2.84353185e+00,\n",
       "        -2.81569996e+00, -2.78786806e+00, -2.76003616e+00, -2.73220426e+00,\n",
       "        -2.70437236e+00, -2.67654047e+00, -2.64870857e+00, -2.62087667e+00,\n",
       "        -2.59304477e+00, -2.56521288e+00, -2.53738098e+00, -2.50954908e+00,\n",
       "        -2.48171718e+00, -2.45388529e+00, -2.42605339e+00, -2.39822149e+00,\n",
       "        -2.37038959e+00, -2.34255770e+00, -2.31472580e+00, -2.28689390e+00,\n",
       "        -2.25906200e+00, -2.23123010e+00, -2.20339821e+00, -2.17556631e+00,\n",
       "        -2.14773441e+00, -2.11990251e+00, -2.09207062e+00, -2.06423872e+00,\n",
       "        -2.03640682e+00, -2.00857492e+00, -1.98074303e+00, -1.95291113e+00,\n",
       "        -1.92507923e+00, -1.89724733e+00, -1.86941544e+00, -1.84158354e+00,\n",
       "        -1.81375164e+00, -1.78591974e+00, -1.75808784e+00, -1.73025595e+00,\n",
       "        -1.70242405e+00, -1.67459215e+00, -1.64676025e+00, -1.61892836e+00,\n",
       "        -1.59109646e+00, -1.56326456e+00, -1.53543266e+00, -1.50760077e+00,\n",
       "        -1.47976887e+00, -1.45193697e+00, -1.42410507e+00, -1.39627318e+00,\n",
       "        -1.36844128e+00, -1.34060938e+00, -1.31277748e+00, -1.28494558e+00,\n",
       "        -1.25711369e+00, -1.22928179e+00, -1.20144989e+00, -1.17361799e+00,\n",
       "        -1.14578610e+00, -1.11795420e+00, -1.09012230e+00, -1.06229040e+00,\n",
       "        -1.03445851e+00, -1.00662661e+00, -9.78794711e-01, -9.50962813e-01,\n",
       "        -9.23130916e-01, -8.95299018e-01, -8.67467120e-01, -8.39635223e-01,\n",
       "        -8.11803325e-01, -7.83971427e-01, -7.56139530e-01, -7.28307632e-01,\n",
       "        -7.00475734e-01, -6.72643837e-01, -6.44811939e-01, -6.16980042e-01,\n",
       "        -5.89148144e-01, -5.61316246e-01, -5.33484349e-01, -5.05652451e-01,\n",
       "        -4.77820553e-01, -4.49988656e-01, -4.22156758e-01, -3.94324860e-01,\n",
       "        -3.66492963e-01, -3.38661065e-01, -3.10829167e-01, -2.82997270e-01,\n",
       "        -2.55165372e-01, -2.27333475e-01, -1.99501577e-01, -1.71669679e-01,\n",
       "        -1.43837782e-01, -1.16005884e-01, -8.81739863e-02, -6.03420887e-02,\n",
       "        -3.25101910e-02, -4.67829340e-03,  2.31536042e-02,  5.09855019e-02,\n",
       "         7.88173995e-02,  1.06649297e-01,  1.34481195e-01,  1.62313092e-01,\n",
       "         1.90144990e-01,  2.17976888e-01,  2.45808785e-01,  2.73640683e-01,\n",
       "         3.01472581e-01,  3.29304478e-01,  3.57136376e-01,  3.84968274e-01,\n",
       "         4.12800171e-01,  4.40632069e-01,  4.68463967e-01,  4.96295864e-01,\n",
       "         5.24127762e-01,  5.51959659e-01,  5.79791557e-01,  6.07623455e-01,\n",
       "         6.35455352e-01,  6.63287250e-01,  6.91119148e-01,  7.18951045e-01,\n",
       "         7.46782943e-01,  7.74614841e-01,  8.02446738e-01,  8.30278636e-01,\n",
       "         8.58110534e-01,  8.85942431e-01,  9.13774329e-01,  9.41606226e-01,\n",
       "         9.69438124e-01,  9.97270022e-01,  1.02510192e+00,  1.05293382e+00,\n",
       "         1.08076571e+00,  1.10859761e+00,  1.13642951e+00,  1.16426141e+00,\n",
       "         1.19209331e+00,  1.21992520e+00,  1.24775710e+00,  1.27558900e+00,\n",
       "         1.30342090e+00,  1.33125279e+00,  1.35908469e+00,  1.38691659e+00,\n",
       "         1.41474849e+00,  1.44258038e+00,  1.47041228e+00,  1.49824418e+00,\n",
       "         1.52607608e+00,  1.55390797e+00,  1.58173987e+00,  1.60957177e+00,\n",
       "         1.63740367e+00,  1.66523557e+00,  1.69306746e+00,  1.72089936e+00,\n",
       "         1.74873126e+00,  1.77656316e+00,  1.80439505e+00,  1.83222695e+00,\n",
       "         1.86005885e+00,  1.88789075e+00,  1.91572264e+00,  1.94355454e+00,\n",
       "         1.97138644e+00,  1.99921834e+00,  2.02705023e+00,  2.05488213e+00,\n",
       "         2.08271403e+00,  2.11054593e+00,  2.13837783e+00,  2.16620972e+00,\n",
       "         2.19404162e+00,  2.22187352e+00,  2.24970542e+00,  2.27753731e+00,\n",
       "         2.30536921e+00,  2.33320111e+00,  2.36103301e+00,  2.38886490e+00,\n",
       "         2.41669680e+00,  2.44452870e+00,  2.47236060e+00,  2.50019249e+00,\n",
       "         2.52802439e+00,  2.55585629e+00,  2.58368819e+00,  2.61152008e+00,\n",
       "         2.63935198e+00,  2.66718388e+00,  2.69501578e+00,  2.72284768e+00,\n",
       "         2.75067957e+00,  2.77851147e+00,  2.80634337e+00,  2.83417527e+00,\n",
       "         2.86200716e+00,  2.88983906e+00,  2.91767096e+00,  2.94550286e+00,\n",
       "         2.97333475e+00,  3.00116665e+00,  3.02899855e+00,  3.05683045e+00,\n",
       "         3.08466234e+00,  3.11249424e+00,  3.14032614e+00,  3.16815804e+00,\n",
       "         3.19598994e+00,  3.22382183e+00,  3.25165373e+00,  3.27948563e+00,\n",
       "         3.30731753e+00,  3.33514942e+00,  3.36298132e+00,  3.39081322e+00,\n",
       "         3.41864512e+00,  3.44647701e+00,  3.47430891e+00,  3.50214081e+00,\n",
       "         3.52997271e+00,  3.55780460e+00,  3.58563650e+00,  3.61346840e+00,\n",
       "         3.64130030e+00,  3.66913220e+00,  3.69696409e+00,  3.72479599e+00,\n",
       "         3.75262789e+00,  3.78045979e+00,  3.80829168e+00,  3.83612358e+00,\n",
       "         3.86395548e+00,  3.89178738e+00,  3.91961927e+00,  3.94745117e+00,\n",
       "         3.97528307e+00,  4.00311497e+00,  4.03094686e+00,  4.05877876e+00,\n",
       "         4.08661066e+00,  4.11444256e+00,  4.14227446e+00,  4.17010635e+00,\n",
       "         4.19793825e+00,  4.22577015e+00,  4.25360205e+00,  4.28143394e+00,\n",
       "         4.30926584e+00,  4.33709774e+00,  4.36492964e+00,  4.39276153e+00,\n",
       "         4.42059343e+00,  4.44842533e+00,  4.47625723e+00,  4.50408912e+00,\n",
       "         4.53192102e+00,  4.55975292e+00,  4.58758482e+00,  4.61541672e+00,\n",
       "         4.64324861e+00,  4.67108051e+00,  4.69891241e+00,  4.72674431e+00,\n",
       "         4.75457620e+00]),\n",
       " <a list of 320 Patch objects>)"
      ]
     },
     "execution_count": 96,
     "metadata": {},
     "output_type": "execute_result"
    },
    {
     "data": {
      "image/png": "[encoded data removed]",
      "text/plain": [
       "<Figure size 432x288 with 1 Axes>"
      ]
     },
     "metadata": {
      "needs_background": "light"
     },
     "output_type": "display_data"
    }
   ],
   "source": [
    "plt.hist(meal_glu_val[:,18], bins='auto',density=True)\n",
    "plt.hist(no_meal_glu_val[:,18], bins='auto',density=True)"
   ]
  },
  {
   "cell_type": "code",
   "execution_count": 100,
   "metadata": {},
   "outputs": [
    {
     "data": {
      "text/plain": [
       "(array([5.64564954e-05, 0.00000000e+00, 5.64564954e-05, 5.64564954e-05,\n",
       "        1.12912991e-04, 1.12912991e-04, 1.69369486e-04, 5.64564954e-05,\n",
       "        5.64564954e-05, 1.69369486e-04, 5.64564954e-05, 2.25825981e-04,\n",
       "        4.51651963e-04, 5.64564954e-05, 1.69369486e-04, 1.69369486e-04,\n",
       "        3.95195467e-04, 3.38738972e-04, 6.77477944e-04, 5.08108458e-04,\n",
       "        3.95195467e-04, 5.64564954e-04, 3.95195467e-04, 3.95195467e-04,\n",
       "        8.46847430e-04, 2.25825981e-03, 3.38738972e-04, 1.12912991e-03,\n",
       "        6.21021449e-04, 1.24204290e-03, 1.29849939e-03, 1.01621692e-03,\n",
       "        1.29849939e-03, 1.29849939e-03, 2.08889033e-03, 3.66967220e-03,\n",
       "        1.75015136e-03, 1.52432537e-03, 3.50030271e-03, 7.56517038e-03,\n",
       "        6.21021449e-03, 6.09730150e-03, 5.02462809e-03, 3.61321570e-03,\n",
       "        4.29069365e-03, 3.72612869e-03, 2.93573776e-03, 4.23423715e-03,\n",
       "        4.57297612e-03, 4.00841117e-03, 4.34715014e-03, 3.33093323e-03,\n",
       "        4.68588911e-03, 3.44384622e-03, 6.77477944e-03, 5.98438851e-03,\n",
       "        7.00060542e-03, 7.11351841e-03, 6.66186645e-03, 7.11351841e-03,\n",
       "        7.84745285e-03, 1.21946030e-02, 1.14042121e-02, 1.20252335e-02,\n",
       "        1.13477556e-02, 8.41201781e-03, 1.20816900e-02, 1.10654731e-02,\n",
       "        1.03879951e-02, 1.24768855e-02, 1.21946030e-02, 2.08324468e-02,\n",
       "        1.50738843e-02, 1.30414504e-02, 1.75015136e-02, 1.80660785e-02,\n",
       "        2.15099247e-02, 2.22438592e-02, 2.08324468e-02, 2.07195338e-02,\n",
       "        2.58570749e-02, 2.63087268e-02, 3.32528758e-02, 2.71555743e-02,\n",
       "        3.34222452e-02, 3.10510724e-02, 3.83339603e-02, 3.87856123e-02,\n",
       "        4.69153476e-02, 4.76492821e-02, 5.30126491e-02, 5.94486896e-02,\n",
       "        6.05213630e-02, 7.01189672e-02, 7.67243772e-02, 8.06198754e-02,\n",
       "        8.42895476e-02, 1.04049321e-01, 1.23188073e-01, 1.07888363e-01,\n",
       "        1.38713609e-01, 1.48367670e-01, 1.22567051e-01, 1.66264379e-01,\n",
       "        1.42778477e-01, 2.30963522e-01, 1.73998919e-01, 2.07534077e-01,\n",
       "        2.07646990e-01, 2.57780358e-01, 2.70483069e-01, 2.58175553e-01,\n",
       "        2.82564759e-01, 3.58272920e-01, 3.12035050e-01, 3.40602036e-01,\n",
       "        3.45796034e-01, 4.00841117e-01, 3.91920991e-01, 4.00163639e-01,\n",
       "        4.06994875e-01, 4.26528822e-01, 4.14672958e-01, 4.86711446e-01,\n",
       "        4.18003892e-01, 5.04890438e-01, 4.84057991e-01, 5.14883238e-01,\n",
       "        4.78468798e-01, 5.08390741e-01, 5.79074273e-01, 5.08560110e-01,\n",
       "        4.93147487e-01, 5.40966138e-01, 4.63394914e-01, 5.21601561e-01,\n",
       "        5.75065862e-01, 5.24255016e-01, 4.72710236e-01, 4.54248962e-01,\n",
       "        5.31989556e-01, 4.72936062e-01, 4.82477209e-01, 4.54136049e-01,\n",
       "        4.44538444e-01, 4.52498810e-01, 4.75307234e-01, 4.12414699e-01,\n",
       "        4.26190083e-01, 3.65894546e-01, 4.39513816e-01, 4.16027914e-01,\n",
       "        3.22310132e-01, 3.77637497e-01, 3.98300575e-01, 3.68039893e-01,\n",
       "        3.28689716e-01, 2.73983372e-01, 3.39416450e-01, 3.59627875e-01,\n",
       "        3.11301115e-01, 2.75338328e-01, 2.85556953e-01, 3.20616437e-01,\n",
       "        2.60377357e-01, 2.87928126e-01, 2.28931089e-01, 2.84484280e-01,\n",
       "        2.60151531e-01, 2.30398958e-01, 2.65232615e-01, 2.23624178e-01,\n",
       "        2.25882438e-01, 2.11090836e-01, 2.45247016e-01, 1.94605539e-01,\n",
       "        2.28931089e-01, 1.99178516e-01, 1.95339474e-01, 1.82185111e-01,\n",
       "        1.86024152e-01, 1.82580306e-01, 1.77781504e-01, 1.82523849e-01,\n",
       "        1.61013925e-01, 1.70611529e-01, 1.62255968e-01, 1.44302802e-01,\n",
       "        1.35890784e-01, 1.61691403e-01, 1.40294391e-01, 1.56271579e-01,\n",
       "        1.14776055e-01, 1.23696181e-01, 1.25672159e-01, 1.27704592e-01,\n",
       "        1.38431327e-01, 1.21550834e-01, 1.06928602e-01, 1.05743016e-01,\n",
       "        1.16413293e-01, 1.10541818e-01, 1.10767644e-01, 9.61454116e-02,\n",
       "        9.82907584e-02, 1.04557429e-01, 8.83544152e-02, 8.82979587e-02,\n",
       "        8.68300899e-02, 9.27015654e-02, 7.90955500e-02, 7.86438980e-02,\n",
       "        8.25958527e-02, 7.48048563e-02, 6.43604047e-02, 7.46919434e-02,\n",
       "        7.59904427e-02, 7.31111615e-02, 5.65694083e-02, 6.65057515e-02,\n",
       "        6.57718171e-02, 5.81501902e-02, 4.76492821e-02, 5.62871259e-02,\n",
       "        5.76985382e-02, 5.43676050e-02, 4.75928256e-02, 4.66895217e-02,\n",
       "        5.51015395e-02, 4.80444775e-02, 3.74871129e-02, 4.48264573e-02,\n",
       "        4.44877183e-02, 4.33585884e-02, 3.29705933e-02, 3.84468733e-02,\n",
       "        3.60192440e-02, 3.47207446e-02, 3.62450700e-02, 3.48901141e-02,\n",
       "        2.74378567e-02, 3.32528758e-02, 3.26318543e-02, 2.44456625e-02,\n",
       "        2.73814002e-02, 2.55747924e-02, 3.18979199e-02, 2.35988151e-02,\n",
       "        2.18486637e-02, 2.74943132e-02, 2.51231404e-02, 2.36552716e-02,\n",
       "        2.04372513e-02, 1.90258389e-02, 1.99855994e-02, 2.22438592e-02,\n",
       "        2.04937078e-02, 1.79531655e-02, 1.95339474e-02, 1.63159272e-02,\n",
       "        1.87435565e-02, 1.54126232e-02, 1.71063181e-02, 1.64288401e-02,\n",
       "        1.60336447e-02, 1.41141238e-02, 1.49045148e-02, 1.40576673e-02,\n",
       "        1.18558640e-02, 1.43964063e-02, 1.55819927e-02, 1.15171251e-02,\n",
       "        1.15171251e-02, 1.20252335e-02, 1.25333420e-02, 1.21946030e-02,\n",
       "        9.14595225e-03, 9.20240874e-03, 9.20240874e-03, 1.04444516e-02,\n",
       "        9.42823472e-03, 8.69430028e-03, 9.71051720e-03, 6.71832295e-03,\n",
       "        9.76697370e-03, 8.92012627e-03, 8.52493080e-03, 6.88769243e-03,\n",
       "        7.45225739e-03, 5.08108458e-03, 8.18619183e-03, 6.77477944e-03,\n",
       "        4.17778066e-03, 6.77477944e-03, 5.02462809e-03, 4.79880210e-03,\n",
       "        4.29069365e-03, 3.21802024e-03, 2.42762930e-03, 2.87928126e-03,\n",
       "        1.52432537e-03, 1.80660785e-03, 1.24204290e-03, 5.08108458e-04,\n",
       "        8.46847430e-04, 1.12912991e-03, 3.38738972e-04, 1.69369486e-04,\n",
       "        3.38738972e-04, 2.25825981e-04, 3.38738972e-04, 3.38738972e-04,\n",
       "        5.64564954e-05, 5.64564954e-05, 0.00000000e+00, 1.12912991e-04,\n",
       "        5.64564954e-05, 0.00000000e+00, 0.00000000e+00, 0.00000000e+00,\n",
       "        3.38738972e-04]),\n",
       " array([-4.15163104, -4.12388585, -4.09614065, -4.06839546, -4.04065027,\n",
       "        -4.01290507, -3.98515988, -3.95741468, -3.92966949, -3.9019243 ,\n",
       "        -3.8741791 , -3.84643391, -3.81868872, -3.79094352, -3.76319833,\n",
       "        -3.73545313, -3.70770794, -3.67996275, -3.65221755, -3.62447236,\n",
       "        -3.59672716, -3.56898197, -3.54123678, -3.51349158, -3.48574639,\n",
       "        -3.45800119, -3.430256  , -3.40251081, -3.37476561, -3.34702042,\n",
       "        -3.31927522, -3.29153003, -3.26378484, -3.23603964, -3.20829445,\n",
       "        -3.18054926, -3.15280406, -3.12505887, -3.09731367, -3.06956848,\n",
       "        -3.04182329, -3.01407809, -2.9863329 , -2.9585877 , -2.93084251,\n",
       "        -2.90309732, -2.87535212, -2.84760693, -2.81986173, -2.79211654,\n",
       "        -2.76437135, -2.73662615, -2.70888096, -2.68113576, -2.65339057,\n",
       "        -2.62564538, -2.59790018, -2.57015499, -2.5424098 , -2.5146646 ,\n",
       "        -2.48691941, -2.45917421, -2.43142902, -2.40368383, -2.37593863,\n",
       "        -2.34819344, -2.32044824, -2.29270305, -2.26495786, -2.23721266,\n",
       "        -2.20946747, -2.18172227, -2.15397708, -2.12623189, -2.09848669,\n",
       "        -2.0707415 , -2.0429963 , -2.01525111, -1.98750592, -1.95976072,\n",
       "        -1.93201553, -1.90427034, -1.87652514, -1.84877995, -1.82103475,\n",
       "        -1.79328956, -1.76554437, -1.73779917, -1.71005398, -1.68230878,\n",
       "        -1.65456359, -1.6268184 , -1.5990732 , -1.57132801, -1.54358281,\n",
       "        -1.51583762, -1.48809243, -1.46034723, -1.43260204, -1.40485684,\n",
       "        -1.37711165, -1.34936646, -1.32162126, -1.29387607, -1.26613088,\n",
       "        -1.23838568, -1.21064049, -1.18289529, -1.1551501 , -1.12740491,\n",
       "        -1.09965971, -1.07191452, -1.04416932, -1.01642413, -0.98867894,\n",
       "        -0.96093374, -0.93318855, -0.90544335, -0.87769816, -0.84995297,\n",
       "        -0.82220777, -0.79446258, -0.76671738, -0.73897219, -0.711227  ,\n",
       "        -0.6834818 , -0.65573661, -0.62799142, -0.60024622, -0.57250103,\n",
       "        -0.54475583, -0.51701064, -0.48926545, -0.46152025, -0.43377506,\n",
       "        -0.40602986, -0.37828467, -0.35053948, -0.32279428, -0.29504909,\n",
       "        -0.26730389, -0.2395587 , -0.21181351, -0.18406831, -0.15632312,\n",
       "        -0.12857792, -0.10083273, -0.07308754, -0.04534234, -0.01759715,\n",
       "         0.01014804,  0.03789324,  0.06563843,  0.09338363,  0.12112882,\n",
       "         0.14887401,  0.17661921,  0.2043644 ,  0.2321096 ,  0.25985479,\n",
       "         0.28759998,  0.31534518,  0.34309037,  0.37083557,  0.39858076,\n",
       "         0.42632595,  0.45407115,  0.48181634,  0.50956153,  0.53730673,\n",
       "         0.56505192,  0.59279712,  0.62054231,  0.6482875 ,  0.6760327 ,\n",
       "         0.70377789,  0.73152309,  0.75926828,  0.78701347,  0.81475867,\n",
       "         0.84250386,  0.87024906,  0.89799425,  0.92573944,  0.95348464,\n",
       "         0.98122983,  1.00897503,  1.03672022,  1.06446541,  1.09221061,\n",
       "         1.1199558 ,  1.14770099,  1.17544619,  1.20319138,  1.23093658,\n",
       "         1.25868177,  1.28642696,  1.31417216,  1.34191735,  1.36966255,\n",
       "         1.39740774,  1.42515293,  1.45289813,  1.48064332,  1.50838852,\n",
       "         1.53613371,  1.5638789 ,  1.5916241 ,  1.61936929,  1.64711449,\n",
       "         1.67485968,  1.70260487,  1.73035007,  1.75809526,  1.78584045,\n",
       "         1.81358565,  1.84133084,  1.86907604,  1.89682123,  1.92456642,\n",
       "         1.95231162,  1.98005681,  2.00780201,  2.0355472 ,  2.06329239,\n",
       "         2.09103759,  2.11878278,  2.14652798,  2.17427317,  2.20201836,\n",
       "         2.22976356,  2.25750875,  2.28525395,  2.31299914,  2.34074433,\n",
       "         2.36848953,  2.39623472,  2.42397991,  2.45172511,  2.4794703 ,\n",
       "         2.5072155 ,  2.53496069,  2.56270588,  2.59045108,  2.61819627,\n",
       "         2.64594147,  2.67368666,  2.70143185,  2.72917705,  2.75692224,\n",
       "         2.78466744,  2.81241263,  2.84015782,  2.86790302,  2.89564821,\n",
       "         2.92339341,  2.9511386 ,  2.97888379,  3.00662899,  3.03437418,\n",
       "         3.06211937,  3.08986457,  3.11760976,  3.14535496,  3.17310015,\n",
       "         3.20084534,  3.22859054,  3.25633573,  3.28408093,  3.31182612,\n",
       "         3.33957131,  3.36731651,  3.3950617 ,  3.4228069 ,  3.45055209,\n",
       "         3.47829728,  3.50604248,  3.53378767,  3.56153287,  3.58927806,\n",
       "         3.61702325,  3.64476845,  3.67251364,  3.70025883,  3.72800403,\n",
       "         3.75574922,  3.78349442,  3.81123961,  3.8389848 ,  3.86673   ,\n",
       "         3.89447519,  3.92222039,  3.94996558,  3.97771077,  4.00545597,\n",
       "         4.03320116,  4.06094636,  4.08869155,  4.11643674,  4.14418194,\n",
       "         4.17192713,  4.19967233,  4.22741752,  4.25516271,  4.28290791,\n",
       "         4.3106531 ,  4.33839829,  4.36614349,  4.39388868,  4.42163388,\n",
       "         4.44937907,  4.47712426,  4.50486946,  4.53261465,  4.56035985,\n",
       "         4.58810504,  4.61585023,  4.64359543,  4.67134062,  4.69908582,\n",
       "         4.72683101,  4.7545762 ]),\n",
       " <a list of 321 Patch objects>)"
      ]
     },
     "execution_count": 100,
     "metadata": {},
     "output_type": "execute_result"
    },
    {
     "data": {
      "image/png": "[encoded data removed]",
      "text/plain": [
       "<Figure size 432x288 with 1 Axes>"
      ]
     },
     "metadata": {
      "needs_background": "light"
     },
     "output_type": "display_data"
    }
   ],
   "source": [
    "plt.hist(meal_glu_val[:,15], bins='auto',density=True)\n",
    "plt.hist(no_meal_glu_val[:,15], bins='auto',density=True)"
   ]
  },
  {
   "cell_type": "code",
   "execution_count": 121,
   "metadata": {},
   "outputs": [
    {
     "data": {
      "image/png": "[encoded data removed]",
      "text/plain": [
       "<Figure size 432x288 with 1 Axes>"
      ]
     },
     "metadata": {
      "needs_background": "light"
     },
     "output_type": "display_data"
    }
   ],
   "source": [
    "tmp = plt.hist(no_meal_glu_val[:,1]-no_meal_glu_val[:,0], bins='auto',density=True)"
   ]
  },
  {
   "cell_type": "code",
   "execution_count": 120,
   "metadata": {},
   "outputs": [
    {
     "data": {
      "image/png": "[encoded data removed]",
      "text/plain": [
       "<Figure size 432x288 with 1 Axes>"
      ]
     },
     "metadata": {
      "needs_background": "light"
     },
     "output_type": "display_data"
    }
   ],
   "source": [
    "tmp = plt.hist(meal_glu_val[:,19]-meal_glu_val[:,18], bins='auto',density=True)\n"
   ]
  },
  {
   "cell_type": "code",
   "execution_count": 122,
   "metadata": {},
   "outputs": [
    {
     "data": {
      "text/plain": [
       "8399"
      ]
     },
     "execution_count": 122,
     "metadata": {},
     "output_type": "execute_result"
    }
   ],
   "source": [
    "sum(meal_glu_val[:,1]-meal_glu_val[:,0] == 0)"
   ]
  },
  {
   "cell_type": "code",
   "execution_count": 125,
   "metadata": {},
   "outputs": [
    {
     "data": {
      "text/plain": [
       "8399"
      ]
     },
     "execution_count": 125,
     "metadata": {},
     "output_type": "execute_result"
    }
   ],
   "source": [
    "sum(meal_glu_val[:,1] == meal_glu_val[:,0])"
   ]
  },
  {
   "cell_type": "code",
   "execution_count": 126,
   "metadata": {},
   "outputs": [
    {
     "data": {
      "text/plain": [
       "2"
      ]
     },
     "execution_count": 126,
     "metadata": {},
     "output_type": "execute_result"
    }
   ],
   "source": [
    "a = True\n",
    "if a:\n",
    "    b=2\n",
    "    \n",
    "b"
   ]
  },
  {
   "cell_type": "code",
   "execution_count": null,
   "metadata": {},
   "outputs": [],
   "source": []
  }
 ],
 "metadata": {
  "kernelspec": {
   "display_name": "Python 3",
   "language": "python",
   "name": "python3"
  },
  "language_info": {
   "codemirror_mode": {
    "name": "ipython",
    "version": 3
   },
   "file_extension": ".py",
   "mimetype": "text/x-python",
   "name": "python",
   "nbconvert_exporter": "python",
   "pygments_lexer": "ipython3",
   "version": "3.7.4"
  }
 },
 "nbformat": 4,
 "nbformat_minor": 2
}
